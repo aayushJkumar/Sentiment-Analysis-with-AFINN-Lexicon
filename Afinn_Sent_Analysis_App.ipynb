{
  "cells": [
    {
      "cell_type": "markdown",
      "metadata": {
        "id": "view-in-github",
        "colab_type": "text"
      },
      "source": [
        "<a href=\"https://colab.research.google.com/github/aayushJkumar/Sentiment-Analysis-with-AFINN-Lexicon/blob/main/Afinn_Sent_Analysis_App.ipynb\" target=\"_parent\"><img src=\"https://colab.research.google.com/assets/colab-badge.svg\" alt=\"Open In Colab\"/></a>"
      ]
    },
    {
      "cell_type": "code",
      "execution_count": 1,
      "metadata": {
        "colab": {
          "base_uri": "https://localhost:8080/"
        },
        "id": "ayslA9H0bAyy",
        "outputId": "fc8487b3-dd48-4d3d-f9cb-b6ce151d1050"
      },
      "outputs": [
        {
          "output_type": "stream",
          "name": "stdout",
          "text": [
            "fatal: destination path 'Sentiment-Analysis-with-AFINN-Lexicon' already exists and is not an empty directory.\n"
          ]
        }
      ],
      "source": [
        "!git clone https://github.com/aayushJkumar/Sentiment-Analysis-with-AFINN-Lexicon.git"
      ]
    },
    {
      "cell_type": "code",
      "execution_count": 2,
      "metadata": {
        "colab": {
          "base_uri": "https://localhost:8080/"
        },
        "id": "aku3Bn40bE2D",
        "outputId": "ec2c0af5-bf37-4c79-cbe5-dabd1ab7d8bd"
      },
      "outputs": [
        {
          "output_type": "stream",
          "name": "stdout",
          "text": [
            "Looking in indexes: https://pypi.org/simple, https://us-python.pkg.dev/colab-wheels/public/simple/\n",
            "Requirement already satisfied: streamlit==1.7.0 in /usr/local/lib/python3.7/dist-packages (from -r /content/Sentiment-Analysis-with-AFINN-Lexicon/requirements.txt (line 1)) (1.7.0)\n",
            "Requirement already satisfied: streamlit_webrtc==0.22.1 in /usr/local/lib/python3.7/dist-packages (from -r /content/Sentiment-Analysis-with-AFINN-Lexicon/requirements.txt (line 2)) (0.22.1)\n",
            "Requirement already satisfied: pyngrok in /usr/local/lib/python3.7/dist-packages (from -r /content/Sentiment-Analysis-with-AFINN-Lexicon/requirements.txt (line 3)) (5.1.0)\n",
            "Requirement already satisfied: unicode in /usr/local/lib/python3.7/dist-packages (from -r /content/Sentiment-Analysis-with-AFINN-Lexicon/requirements.txt (line 4)) (2.9)\n",
            "Requirement already satisfied: contractions==0.1.72 in /usr/local/lib/python3.7/dist-packages (from -r /content/Sentiment-Analysis-with-AFINN-Lexicon/requirements.txt (line 5)) (0.1.72)\n",
            "Requirement already satisfied: spacy==3.4.2 in /usr/local/lib/python3.7/dist-packages (from -r /content/Sentiment-Analysis-with-AFINN-Lexicon/requirements.txt (line 6)) (3.4.2)\n",
            "Requirement already satisfied: advertools==0.13.2 in /usr/local/lib/python3.7/dist-packages (from -r /content/Sentiment-Analysis-with-AFINN-Lexicon/requirements.txt (line 7)) (0.13.2)\n",
            "Requirement already satisfied: afinn==0.1 in /usr/local/lib/python3.7/dist-packages (from -r /content/Sentiment-Analysis-with-AFINN-Lexicon/requirements.txt (line 8)) (0.1)\n",
            "Requirement already satisfied: attrs in /usr/local/lib/python3.7/dist-packages (from streamlit==1.7.0->-r /content/Sentiment-Analysis-with-AFINN-Lexicon/requirements.txt (line 1)) (22.1.0)\n",
            "Requirement already satisfied: tzlocal in /usr/local/lib/python3.7/dist-packages (from streamlit==1.7.0->-r /content/Sentiment-Analysis-with-AFINN-Lexicon/requirements.txt (line 1)) (1.5.1)\n",
            "Requirement already satisfied: astor in /usr/local/lib/python3.7/dist-packages (from streamlit==1.7.0->-r /content/Sentiment-Analysis-with-AFINN-Lexicon/requirements.txt (line 1)) (0.8.1)\n",
            "Requirement already satisfied: gitpython!=3.1.19 in /usr/local/lib/python3.7/dist-packages (from streamlit==1.7.0->-r /content/Sentiment-Analysis-with-AFINN-Lexicon/requirements.txt (line 1)) (3.1.29)\n",
            "Requirement already satisfied: blinker in /usr/local/lib/python3.7/dist-packages (from streamlit==1.7.0->-r /content/Sentiment-Analysis-with-AFINN-Lexicon/requirements.txt (line 1)) (1.5)\n",
            "Requirement already satisfied: click>=7.0 in /usr/local/lib/python3.7/dist-packages (from streamlit==1.7.0->-r /content/Sentiment-Analysis-with-AFINN-Lexicon/requirements.txt (line 1)) (7.1.2)\n",
            "Requirement already satisfied: pympler>=0.9 in /usr/local/lib/python3.7/dist-packages (from streamlit==1.7.0->-r /content/Sentiment-Analysis-with-AFINN-Lexicon/requirements.txt (line 1)) (1.0.1)\n",
            "Requirement already satisfied: pandas>=0.21.0 in /usr/local/lib/python3.7/dist-packages (from streamlit==1.7.0->-r /content/Sentiment-Analysis-with-AFINN-Lexicon/requirements.txt (line 1)) (1.3.5)\n",
            "Requirement already satisfied: python-dateutil in /usr/local/lib/python3.7/dist-packages (from streamlit==1.7.0->-r /content/Sentiment-Analysis-with-AFINN-Lexicon/requirements.txt (line 1)) (2.8.2)\n",
            "Requirement already satisfied: numpy in /usr/local/lib/python3.7/dist-packages (from streamlit==1.7.0->-r /content/Sentiment-Analysis-with-AFINN-Lexicon/requirements.txt (line 1)) (1.21.6)\n",
            "Requirement already satisfied: altair>=3.2.0 in /usr/local/lib/python3.7/dist-packages (from streamlit==1.7.0->-r /content/Sentiment-Analysis-with-AFINN-Lexicon/requirements.txt (line 1)) (4.2.0)\n",
            "Requirement already satisfied: tornado>=5.0 in /usr/local/lib/python3.7/dist-packages (from streamlit==1.7.0->-r /content/Sentiment-Analysis-with-AFINN-Lexicon/requirements.txt (line 1)) (5.1.1)\n",
            "Requirement already satisfied: packaging in /usr/local/lib/python3.7/dist-packages (from streamlit==1.7.0->-r /content/Sentiment-Analysis-with-AFINN-Lexicon/requirements.txt (line 1)) (21.3)\n",
            "Requirement already satisfied: pyarrow in /usr/local/lib/python3.7/dist-packages (from streamlit==1.7.0->-r /content/Sentiment-Analysis-with-AFINN-Lexicon/requirements.txt (line 1)) (6.0.1)\n",
            "Requirement already satisfied: toml in /usr/local/lib/python3.7/dist-packages (from streamlit==1.7.0->-r /content/Sentiment-Analysis-with-AFINN-Lexicon/requirements.txt (line 1)) (0.10.2)\n",
            "Requirement already satisfied: watchdog in /usr/local/lib/python3.7/dist-packages (from streamlit==1.7.0->-r /content/Sentiment-Analysis-with-AFINN-Lexicon/requirements.txt (line 1)) (2.1.9)\n",
            "Requirement already satisfied: typing-extensions in /usr/local/lib/python3.7/dist-packages (from streamlit==1.7.0->-r /content/Sentiment-Analysis-with-AFINN-Lexicon/requirements.txt (line 1)) (3.10.0.2)\n",
            "Requirement already satisfied: requests in /usr/local/lib/python3.7/dist-packages (from streamlit==1.7.0->-r /content/Sentiment-Analysis-with-AFINN-Lexicon/requirements.txt (line 1)) (2.23.0)\n",
            "Requirement already satisfied: base58 in /usr/local/lib/python3.7/dist-packages (from streamlit==1.7.0->-r /content/Sentiment-Analysis-with-AFINN-Lexicon/requirements.txt (line 1)) (2.1.1)\n",
            "Requirement already satisfied: importlib-metadata>=1.4 in /usr/local/lib/python3.7/dist-packages (from streamlit==1.7.0->-r /content/Sentiment-Analysis-with-AFINN-Lexicon/requirements.txt (line 1)) (4.13.0)\n",
            "Requirement already satisfied: pillow>=6.2.0 in /usr/local/lib/python3.7/dist-packages (from streamlit==1.7.0->-r /content/Sentiment-Analysis-with-AFINN-Lexicon/requirements.txt (line 1)) (7.1.2)\n",
            "Requirement already satisfied: semver in /usr/local/lib/python3.7/dist-packages (from streamlit==1.7.0->-r /content/Sentiment-Analysis-with-AFINN-Lexicon/requirements.txt (line 1)) (2.13.0)\n",
            "Requirement already satisfied: cachetools>=4.0 in /usr/local/lib/python3.7/dist-packages (from streamlit==1.7.0->-r /content/Sentiment-Analysis-with-AFINN-Lexicon/requirements.txt (line 1)) (4.2.4)\n",
            "Requirement already satisfied: pydeck>=0.1.dev5 in /usr/local/lib/python3.7/dist-packages (from streamlit==1.7.0->-r /content/Sentiment-Analysis-with-AFINN-Lexicon/requirements.txt (line 1)) (0.8.0b4)\n",
            "Requirement already satisfied: validators in /usr/local/lib/python3.7/dist-packages (from streamlit==1.7.0->-r /content/Sentiment-Analysis-with-AFINN-Lexicon/requirements.txt (line 1)) (0.20.0)\n",
            "Requirement already satisfied: protobuf!=3.11,>=3.6.0 in /usr/local/lib/python3.7/dist-packages (from streamlit==1.7.0->-r /content/Sentiment-Analysis-with-AFINN-Lexicon/requirements.txt (line 1)) (3.17.3)\n",
            "Requirement already satisfied: aiortc<2.0.0,>=1.1.2 in /usr/local/lib/python3.7/dist-packages (from streamlit_webrtc==0.22.1->-r /content/Sentiment-Analysis-with-AFINN-Lexicon/requirements.txt (line 2)) (1.3.2)\n",
            "Requirement already satisfied: textsearch>=0.0.21 in /usr/local/lib/python3.7/dist-packages (from contractions==0.1.72->-r /content/Sentiment-Analysis-with-AFINN-Lexicon/requirements.txt (line 5)) (0.0.24)\n",
            "Requirement already satisfied: typer<0.5.0,>=0.3.0 in /usr/local/lib/python3.7/dist-packages (from spacy==3.4.2->-r /content/Sentiment-Analysis-with-AFINN-Lexicon/requirements.txt (line 6)) (0.4.2)\n",
            "Requirement already satisfied: pathy>=0.3.5 in /usr/local/lib/python3.7/dist-packages (from spacy==3.4.2->-r /content/Sentiment-Analysis-with-AFINN-Lexicon/requirements.txt (line 6)) (0.6.2)\n",
            "Requirement already satisfied: wasabi<1.1.0,>=0.9.1 in /usr/local/lib/python3.7/dist-packages (from spacy==3.4.2->-r /content/Sentiment-Analysis-with-AFINN-Lexicon/requirements.txt (line 6)) (0.10.1)\n",
            "Requirement already satisfied: cymem<2.1.0,>=2.0.2 in /usr/local/lib/python3.7/dist-packages (from spacy==3.4.2->-r /content/Sentiment-Analysis-with-AFINN-Lexicon/requirements.txt (line 6)) (2.0.7)\n",
            "Requirement already satisfied: spacy-loggers<2.0.0,>=1.0.0 in /usr/local/lib/python3.7/dist-packages (from spacy==3.4.2->-r /content/Sentiment-Analysis-with-AFINN-Lexicon/requirements.txt (line 6)) (1.0.3)\n",
            "Requirement already satisfied: thinc<8.2.0,>=8.1.0 in /usr/local/lib/python3.7/dist-packages (from spacy==3.4.2->-r /content/Sentiment-Analysis-with-AFINN-Lexicon/requirements.txt (line 6)) (8.1.5)\n",
            "Requirement already satisfied: srsly<3.0.0,>=2.4.3 in /usr/local/lib/python3.7/dist-packages (from spacy==3.4.2->-r /content/Sentiment-Analysis-with-AFINN-Lexicon/requirements.txt (line 6)) (2.4.5)\n",
            "Requirement already satisfied: catalogue<2.1.0,>=2.0.6 in /usr/local/lib/python3.7/dist-packages (from spacy==3.4.2->-r /content/Sentiment-Analysis-with-AFINN-Lexicon/requirements.txt (line 6)) (2.0.8)\n",
            "Requirement already satisfied: tqdm<5.0.0,>=4.38.0 in /usr/local/lib/python3.7/dist-packages (from spacy==3.4.2->-r /content/Sentiment-Analysis-with-AFINN-Lexicon/requirements.txt (line 6)) (4.64.1)\n",
            "Requirement already satisfied: jinja2 in /usr/local/lib/python3.7/dist-packages (from spacy==3.4.2->-r /content/Sentiment-Analysis-with-AFINN-Lexicon/requirements.txt (line 6)) (2.11.3)\n",
            "Requirement already satisfied: setuptools in /usr/local/lib/python3.7/dist-packages (from spacy==3.4.2->-r /content/Sentiment-Analysis-with-AFINN-Lexicon/requirements.txt (line 6)) (57.4.0)\n",
            "Requirement already satisfied: murmurhash<1.1.0,>=0.28.0 in /usr/local/lib/python3.7/dist-packages (from spacy==3.4.2->-r /content/Sentiment-Analysis-with-AFINN-Lexicon/requirements.txt (line 6)) (1.0.9)\n",
            "Requirement already satisfied: pydantic!=1.8,!=1.8.1,<1.11.0,>=1.7.4 in /usr/local/lib/python3.7/dist-packages (from spacy==3.4.2->-r /content/Sentiment-Analysis-with-AFINN-Lexicon/requirements.txt (line 6)) (1.9.2)\n",
            "Requirement already satisfied: spacy-legacy<3.1.0,>=3.0.10 in /usr/local/lib/python3.7/dist-packages (from spacy==3.4.2->-r /content/Sentiment-Analysis-with-AFINN-Lexicon/requirements.txt (line 6)) (3.0.10)\n",
            "Requirement already satisfied: langcodes<4.0.0,>=3.2.0 in /usr/local/lib/python3.7/dist-packages (from spacy==3.4.2->-r /content/Sentiment-Analysis-with-AFINN-Lexicon/requirements.txt (line 6)) (3.3.0)\n",
            "Requirement already satisfied: preshed<3.1.0,>=3.0.2 in /usr/local/lib/python3.7/dist-packages (from spacy==3.4.2->-r /content/Sentiment-Analysis-with-AFINN-Lexicon/requirements.txt (line 6)) (3.0.8)\n",
            "Requirement already satisfied: scrapy>=2.5.0 in /usr/local/lib/python3.7/dist-packages (from advertools==0.13.2->-r /content/Sentiment-Analysis-with-AFINN-Lexicon/requirements.txt (line 7)) (2.7.1)\n",
            "Requirement already satisfied: pyasn1>=0.4 in /usr/local/lib/python3.7/dist-packages (from advertools==0.13.2->-r /content/Sentiment-Analysis-with-AFINN-Lexicon/requirements.txt (line 7)) (0.4.8)\n",
            "Requirement already satisfied: twython>=3.8.0 in /usr/local/lib/python3.7/dist-packages (from advertools==0.13.2->-r /content/Sentiment-Analysis-with-AFINN-Lexicon/requirements.txt (line 7)) (3.9.1)\n",
            "Requirement already satisfied: pyee>=9.0.0 in /usr/local/lib/python3.7/dist-packages (from aiortc<2.0.0,>=1.1.2->streamlit_webrtc==0.22.1->-r /content/Sentiment-Analysis-with-AFINN-Lexicon/requirements.txt (line 2)) (9.0.4)\n",
            "Requirement already satisfied: cryptography>=2.2 in /usr/local/lib/python3.7/dist-packages (from aiortc<2.0.0,>=1.1.2->streamlit_webrtc==0.22.1->-r /content/Sentiment-Analysis-with-AFINN-Lexicon/requirements.txt (line 2)) (38.0.3)\n",
            "Requirement already satisfied: google-crc32c>=1.1 in /usr/local/lib/python3.7/dist-packages (from aiortc<2.0.0,>=1.1.2->streamlit_webrtc==0.22.1->-r /content/Sentiment-Analysis-with-AFINN-Lexicon/requirements.txt (line 2)) (1.5.0)\n",
            "Requirement already satisfied: av<10.0.0,>=9.0.0 in /usr/local/lib/python3.7/dist-packages (from aiortc<2.0.0,>=1.1.2->streamlit_webrtc==0.22.1->-r /content/Sentiment-Analysis-with-AFINN-Lexicon/requirements.txt (line 2)) (9.2.0)\n",
            "Requirement already satisfied: pylibsrtp>=0.5.6 in /usr/local/lib/python3.7/dist-packages (from aiortc<2.0.0,>=1.1.2->streamlit_webrtc==0.22.1->-r /content/Sentiment-Analysis-with-AFINN-Lexicon/requirements.txt (line 2)) (0.7.1)\n",
            "Requirement already satisfied: aioice<0.8.0,>=0.7.5 in /usr/local/lib/python3.7/dist-packages (from aiortc<2.0.0,>=1.1.2->streamlit_webrtc==0.22.1->-r /content/Sentiment-Analysis-with-AFINN-Lexicon/requirements.txt (line 2)) (0.7.6)\n",
            "Requirement already satisfied: cffi>=1.0.0 in /usr/local/lib/python3.7/dist-packages (from aiortc<2.0.0,>=1.1.2->streamlit_webrtc==0.22.1->-r /content/Sentiment-Analysis-with-AFINN-Lexicon/requirements.txt (line 2)) (1.15.1)\n",
            "Requirement already satisfied: dnspython>=2.0.0 in /usr/local/lib/python3.7/dist-packages (from aioice<0.8.0,>=0.7.5->aiortc<2.0.0,>=1.1.2->streamlit_webrtc==0.22.1->-r /content/Sentiment-Analysis-with-AFINN-Lexicon/requirements.txt (line 2)) (2.2.1)\n",
            "Requirement already satisfied: netifaces in /usr/local/lib/python3.7/dist-packages (from aioice<0.8.0,>=0.7.5->aiortc<2.0.0,>=1.1.2->streamlit_webrtc==0.22.1->-r /content/Sentiment-Analysis-with-AFINN-Lexicon/requirements.txt (line 2)) (0.11.0)\n",
            "Requirement already satisfied: toolz in /usr/local/lib/python3.7/dist-packages (from altair>=3.2.0->streamlit==1.7.0->-r /content/Sentiment-Analysis-with-AFINN-Lexicon/requirements.txt (line 1)) (0.12.0)\n",
            "Requirement already satisfied: entrypoints in /usr/local/lib/python3.7/dist-packages (from altair>=3.2.0->streamlit==1.7.0->-r /content/Sentiment-Analysis-with-AFINN-Lexicon/requirements.txt (line 1)) (0.4)\n",
            "Requirement already satisfied: jsonschema>=3.0 in /usr/local/lib/python3.7/dist-packages (from altair>=3.2.0->streamlit==1.7.0->-r /content/Sentiment-Analysis-with-AFINN-Lexicon/requirements.txt (line 1)) (4.3.3)\n",
            "Requirement already satisfied: zipp>=0.5 in /usr/local/lib/python3.7/dist-packages (from catalogue<2.1.0,>=2.0.6->spacy==3.4.2->-r /content/Sentiment-Analysis-with-AFINN-Lexicon/requirements.txt (line 6)) (3.10.0)\n",
            "Requirement already satisfied: pycparser in /usr/local/lib/python3.7/dist-packages (from cffi>=1.0.0->aiortc<2.0.0,>=1.1.2->streamlit_webrtc==0.22.1->-r /content/Sentiment-Analysis-with-AFINN-Lexicon/requirements.txt (line 2)) (2.21)\n",
            "Requirement already satisfied: gitdb<5,>=4.0.1 in /usr/local/lib/python3.7/dist-packages (from gitpython!=3.1.19->streamlit==1.7.0->-r /content/Sentiment-Analysis-with-AFINN-Lexicon/requirements.txt (line 1)) (4.0.9)\n",
            "Requirement already satisfied: smmap<6,>=3.0.1 in /usr/local/lib/python3.7/dist-packages (from gitdb<5,>=4.0.1->gitpython!=3.1.19->streamlit==1.7.0->-r /content/Sentiment-Analysis-with-AFINN-Lexicon/requirements.txt (line 1)) (5.0.0)\n",
            "Requirement already satisfied: importlib-resources>=1.4.0 in /usr/local/lib/python3.7/dist-packages (from jsonschema>=3.0->altair>=3.2.0->streamlit==1.7.0->-r /content/Sentiment-Analysis-with-AFINN-Lexicon/requirements.txt (line 1)) (5.10.0)\n",
            "Requirement already satisfied: pyrsistent!=0.17.0,!=0.17.1,!=0.17.2,>=0.14.0 in /usr/local/lib/python3.7/dist-packages (from jsonschema>=3.0->altair>=3.2.0->streamlit==1.7.0->-r /content/Sentiment-Analysis-with-AFINN-Lexicon/requirements.txt (line 1)) (0.18.1)\n",
            "Requirement already satisfied: pyparsing!=3.0.5,>=2.0.2 in /usr/local/lib/python3.7/dist-packages (from packaging->streamlit==1.7.0->-r /content/Sentiment-Analysis-with-AFINN-Lexicon/requirements.txt (line 1)) (3.0.9)\n",
            "Requirement already satisfied: pytz>=2017.3 in /usr/local/lib/python3.7/dist-packages (from pandas>=0.21.0->streamlit==1.7.0->-r /content/Sentiment-Analysis-with-AFINN-Lexicon/requirements.txt (line 1)) (2022.5)\n",
            "Requirement already satisfied: smart-open<6.0.0,>=5.2.1 in /usr/local/lib/python3.7/dist-packages (from pathy>=0.3.5->spacy==3.4.2->-r /content/Sentiment-Analysis-with-AFINN-Lexicon/requirements.txt (line 6)) (5.2.1)\n",
            "Requirement already satisfied: six>=1.9 in /usr/local/lib/python3.7/dist-packages (from protobuf!=3.11,>=3.6.0->streamlit==1.7.0->-r /content/Sentiment-Analysis-with-AFINN-Lexicon/requirements.txt (line 1)) (1.15.0)\n",
            "Requirement already satisfied: MarkupSafe>=0.23 in /usr/local/lib/python3.7/dist-packages (from jinja2->spacy==3.4.2->-r /content/Sentiment-Analysis-with-AFINN-Lexicon/requirements.txt (line 6)) (2.0.1)\n",
            "Requirement already satisfied: chardet<4,>=3.0.2 in /usr/local/lib/python3.7/dist-packages (from requests->streamlit==1.7.0->-r /content/Sentiment-Analysis-with-AFINN-Lexicon/requirements.txt (line 1)) (3.0.4)\n",
            "Requirement already satisfied: certifi>=2017.4.17 in /usr/local/lib/python3.7/dist-packages (from requests->streamlit==1.7.0->-r /content/Sentiment-Analysis-with-AFINN-Lexicon/requirements.txt (line 1)) (2022.9.24)\n",
            "Requirement already satisfied: idna<3,>=2.5 in /usr/local/lib/python3.7/dist-packages (from requests->streamlit==1.7.0->-r /content/Sentiment-Analysis-with-AFINN-Lexicon/requirements.txt (line 1)) (2.10)\n",
            "Requirement already satisfied: urllib3!=1.25.0,!=1.25.1,<1.26,>=1.21.1 in /usr/local/lib/python3.7/dist-packages (from requests->streamlit==1.7.0->-r /content/Sentiment-Analysis-with-AFINN-Lexicon/requirements.txt (line 1)) (1.24.3)\n",
            "Requirement already satisfied: protego>=0.1.15 in /usr/local/lib/python3.7/dist-packages (from scrapy>=2.5.0->advertools==0.13.2->-r /content/Sentiment-Analysis-with-AFINN-Lexicon/requirements.txt (line 7)) (0.2.1)\n",
            "Requirement already satisfied: lxml>=4.3.0 in /usr/local/lib/python3.7/dist-packages (from scrapy>=2.5.0->advertools==0.13.2->-r /content/Sentiment-Analysis-with-AFINN-Lexicon/requirements.txt (line 7)) (4.9.1)\n",
            "Requirement already satisfied: parsel>=1.5.0 in /usr/local/lib/python3.7/dist-packages (from scrapy>=2.5.0->advertools==0.13.2->-r /content/Sentiment-Analysis-with-AFINN-Lexicon/requirements.txt (line 7)) (1.7.0)\n",
            "Requirement already satisfied: PyDispatcher>=2.0.5 in /usr/local/lib/python3.7/dist-packages (from scrapy>=2.5.0->advertools==0.13.2->-r /content/Sentiment-Analysis-with-AFINN-Lexicon/requirements.txt (line 7)) (2.0.6)\n",
            "Requirement already satisfied: queuelib>=1.4.2 in /usr/local/lib/python3.7/dist-packages (from scrapy>=2.5.0->advertools==0.13.2->-r /content/Sentiment-Analysis-with-AFINN-Lexicon/requirements.txt (line 7)) (1.6.2)\n",
            "Requirement already satisfied: tldextract in /usr/local/lib/python3.7/dist-packages (from scrapy>=2.5.0->advertools==0.13.2->-r /content/Sentiment-Analysis-with-AFINN-Lexicon/requirements.txt (line 7)) (3.4.0)\n",
            "Requirement already satisfied: pyOpenSSL>=21.0.0 in /usr/local/lib/python3.7/dist-packages (from scrapy>=2.5.0->advertools==0.13.2->-r /content/Sentiment-Analysis-with-AFINN-Lexicon/requirements.txt (line 7)) (22.1.0)\n",
            "Requirement already satisfied: itemloaders>=1.0.1 in /usr/local/lib/python3.7/dist-packages (from scrapy>=2.5.0->advertools==0.13.2->-r /content/Sentiment-Analysis-with-AFINN-Lexicon/requirements.txt (line 7)) (1.0.6)\n",
            "Requirement already satisfied: itemadapter>=0.1.0 in /usr/local/lib/python3.7/dist-packages (from scrapy>=2.5.0->advertools==0.13.2->-r /content/Sentiment-Analysis-with-AFINN-Lexicon/requirements.txt (line 7)) (0.7.0)\n",
            "Requirement already satisfied: Twisted>=18.9.0 in /usr/local/lib/python3.7/dist-packages (from scrapy>=2.5.0->advertools==0.13.2->-r /content/Sentiment-Analysis-with-AFINN-Lexicon/requirements.txt (line 7)) (22.10.0)\n",
            "Requirement already satisfied: zope.interface>=5.1.0 in /usr/local/lib/python3.7/dist-packages (from scrapy>=2.5.0->advertools==0.13.2->-r /content/Sentiment-Analysis-with-AFINN-Lexicon/requirements.txt (line 7)) (5.5.0)\n",
            "Requirement already satisfied: cssselect>=0.9.1 in /usr/local/lib/python3.7/dist-packages (from scrapy>=2.5.0->advertools==0.13.2->-r /content/Sentiment-Analysis-with-AFINN-Lexicon/requirements.txt (line 7)) (1.2.0)\n",
            "Requirement already satisfied: service-identity>=18.1.0 in /usr/local/lib/python3.7/dist-packages (from scrapy>=2.5.0->advertools==0.13.2->-r /content/Sentiment-Analysis-with-AFINN-Lexicon/requirements.txt (line 7)) (21.1.0)\n",
            "Requirement already satisfied: w3lib>=1.17.0 in /usr/local/lib/python3.7/dist-packages (from scrapy>=2.5.0->advertools==0.13.2->-r /content/Sentiment-Analysis-with-AFINN-Lexicon/requirements.txt (line 7)) (2.0.1)\n",
            "Requirement already satisfied: jmespath>=0.9.5 in /usr/local/lib/python3.7/dist-packages (from itemloaders>=1.0.1->scrapy>=2.5.0->advertools==0.13.2->-r /content/Sentiment-Analysis-with-AFINN-Lexicon/requirements.txt (line 7)) (1.0.1)\n",
            "Requirement already satisfied: pyasn1-modules in /usr/local/lib/python3.7/dist-packages (from service-identity>=18.1.0->scrapy>=2.5.0->advertools==0.13.2->-r /content/Sentiment-Analysis-with-AFINN-Lexicon/requirements.txt (line 7)) (0.2.8)\n",
            "Requirement already satisfied: pyahocorasick in /usr/local/lib/python3.7/dist-packages (from textsearch>=0.0.21->contractions==0.1.72->-r /content/Sentiment-Analysis-with-AFINN-Lexicon/requirements.txt (line 5)) (1.4.4)\n",
            "Requirement already satisfied: anyascii in /usr/local/lib/python3.7/dist-packages (from textsearch>=0.0.21->contractions==0.1.72->-r /content/Sentiment-Analysis-with-AFINN-Lexicon/requirements.txt (line 5)) (0.3.1)\n",
            "Requirement already satisfied: blis<0.8.0,>=0.7.8 in /usr/local/lib/python3.7/dist-packages (from thinc<8.2.0,>=8.1.0->spacy==3.4.2->-r /content/Sentiment-Analysis-with-AFINN-Lexicon/requirements.txt (line 6)) (0.7.9)\n",
            "Requirement already satisfied: confection<1.0.0,>=0.0.1 in /usr/local/lib/python3.7/dist-packages (from thinc<8.2.0,>=8.1.0->spacy==3.4.2->-r /content/Sentiment-Analysis-with-AFINN-Lexicon/requirements.txt (line 6)) (0.0.3)\n",
            "Requirement already satisfied: hyperlink>=17.1.1 in /usr/local/lib/python3.7/dist-packages (from Twisted>=18.9.0->scrapy>=2.5.0->advertools==0.13.2->-r /content/Sentiment-Analysis-with-AFINN-Lexicon/requirements.txt (line 7)) (21.0.0)\n",
            "Requirement already satisfied: constantly>=15.1 in /usr/local/lib/python3.7/dist-packages (from Twisted>=18.9.0->scrapy>=2.5.0->advertools==0.13.2->-r /content/Sentiment-Analysis-with-AFINN-Lexicon/requirements.txt (line 7)) (15.1.0)\n",
            "Requirement already satisfied: incremental>=21.3.0 in /usr/local/lib/python3.7/dist-packages (from Twisted>=18.9.0->scrapy>=2.5.0->advertools==0.13.2->-r /content/Sentiment-Analysis-with-AFINN-Lexicon/requirements.txt (line 7)) (22.10.0)\n",
            "Requirement already satisfied: Automat>=0.8.0 in /usr/local/lib/python3.7/dist-packages (from Twisted>=18.9.0->scrapy>=2.5.0->advertools==0.13.2->-r /content/Sentiment-Analysis-with-AFINN-Lexicon/requirements.txt (line 7)) (22.10.0)\n",
            "Requirement already satisfied: requests-oauthlib>=0.4.0 in /usr/local/lib/python3.7/dist-packages (from twython>=3.8.0->advertools==0.13.2->-r /content/Sentiment-Analysis-with-AFINN-Lexicon/requirements.txt (line 7)) (1.3.1)\n",
            "Requirement already satisfied: oauthlib>=3.0.0 in /usr/local/lib/python3.7/dist-packages (from requests-oauthlib>=0.4.0->twython>=3.8.0->advertools==0.13.2->-r /content/Sentiment-Analysis-with-AFINN-Lexicon/requirements.txt (line 7)) (3.2.2)\n",
            "Requirement already satisfied: PyYAML in /usr/local/lib/python3.7/dist-packages (from pyngrok->-r /content/Sentiment-Analysis-with-AFINN-Lexicon/requirements.txt (line 3)) (6.0)\n",
            "Requirement already satisfied: filelock>=3.0.8 in /usr/local/lib/python3.7/dist-packages (from tldextract->scrapy>=2.5.0->advertools==0.13.2->-r /content/Sentiment-Analysis-with-AFINN-Lexicon/requirements.txt (line 7)) (3.8.0)\n",
            "Requirement already satisfied: requests-file>=1.4 in /usr/local/lib/python3.7/dist-packages (from tldextract->scrapy>=2.5.0->advertools==0.13.2->-r /content/Sentiment-Analysis-with-AFINN-Lexicon/requirements.txt (line 7)) (1.5.1)\n",
            "Requirement already satisfied: decorator>=3.4.0 in /usr/local/lib/python3.7/dist-packages (from validators->streamlit==1.7.0->-r /content/Sentiment-Analysis-with-AFINN-Lexicon/requirements.txt (line 1)) (4.4.2)\n"
          ]
        }
      ],
      "source": [
        "!pip install -r /content/Sentiment-Analysis-with-AFINN-Lexicon/requirements.txt"
      ]
    },
    {
      "cell_type": "code",
      "execution_count": 3,
      "metadata": {
        "id": "8q3nWB1SbK9J"
      },
      "outputs": [],
      "source": [
        "# try:\n",
        "#     import cPickle as pickle\n",
        "# except ImportError:\n",
        "#     import pickle "
      ]
    },
    {
      "cell_type": "code",
      "execution_count": 4,
      "metadata": {
        "colab": {
          "base_uri": "https://localhost:8080/"
        },
        "id": "o_lubnuZbbWp",
        "outputId": "12eaff0f-b66a-43ac-a1f1-06dc80a83241"
      },
      "outputs": [
        {
          "output_type": "stream",
          "name": "stderr",
          "text": [
            "[nltk_data] Downloading package stopwords to /root/nltk_data...\n",
            "[nltk_data]   Unzipping corpora/stopwords.zip.\n",
            "[nltk_data] Downloading package punkt to /root/nltk_data...\n",
            "[nltk_data]   Package punkt is already up-to-date!\n"
          ]
        },
        {
          "output_type": "execute_result",
          "data": {
            "text/plain": [
              "True"
            ]
          },
          "metadata": {},
          "execution_count": 4
        }
      ],
      "source": [
        "import nltk\n",
        "nltk.download('stopwords')\n",
        "nltk.download('punkt')"
      ]
    },
    {
      "cell_type": "code",
      "execution_count": 5,
      "metadata": {
        "colab": {
          "base_uri": "https://localhost:8080/"
        },
        "id": "OEa6Xj7Hbf3v",
        "outputId": "d9f69f86-e704-46b1-9519-1a44ce3469db"
      },
      "outputs": [
        {
          "output_type": "stream",
          "name": "stdout",
          "text": [
            "Authtoken saved to configuration file: /root/.ngrok2/ngrok.yml\n"
          ]
        }
      ],
      "source": [
        "!ngrok authtoken xxxxxxxxxxxxx"
      ]
    },
    {
      "cell_type": "code",
      "source": [],
      "metadata": {
        "id": "vnryK7O6lAq8"
      },
      "execution_count": 5,
      "outputs": []
    },
    {
      "cell_type": "code",
      "execution_count": 6,
      "metadata": {
        "colab": {
          "base_uri": "https://localhost:8080/"
        },
        "id": "1UCxwkoicEew",
        "outputId": "50d34d5c-4181-42a3-d39f-462e337bf613"
      },
      "outputs": [
        {
          "output_type": "stream",
          "name": "stdout",
          "text": [
            "NgrokTunnel: \"https://ab4c-34-173-23-164.ngrok.io\" -> \"http://localhost:80\"\n",
            "2022-11-03 13:29:05.380 INFO    numexpr.utils: NumExpr defaulting to 2 threads.\n",
            "[nltk_data] Downloading package punkt to /root/nltk_data...\n",
            "[nltk_data]   Package punkt is already up-to-date!\n"
          ]
        }
      ],
      "source": [
        "from pyngrok import ngrok\n",
        "public_url = ngrok.connect(port='80',bind_tls=True)\n",
        "print (public_url)\n",
        "!cd /content/Sentiment-Analysis-with-AFINN-Lexicon && streamlit run --server.port 80 app.py >/dev/null"
      ]
    },
    {
      "cell_type": "code",
      "execution_count": 7,
      "metadata": {
        "id": "jOBC309XcNFB"
      },
      "outputs": [],
      "source": [
        "!pgrep streamlit\n",
        "\n",
        "ngrok.kill()"
      ]
    },
    {
      "cell_type": "code",
      "execution_count": null,
      "metadata": {
        "id": "FfnHzvEwdYTJ"
      },
      "outputs": [],
      "source": []
    }
  ],
  "metadata": {
    "colab": {
      "collapsed_sections": [],
      "provenance": [],
      "authorship_tag": "ABX9TyNatpkmNAXuB4Xno0asbV3X",
      "include_colab_link": true
    },
    "kernelspec": {
      "display_name": "Python 3",
      "name": "python3"
    },
    "language_info": {
      "name": "python"
    },
    "accelerator": "GPU",
    "gpuClass": "standard"
  },
  "nbformat": 4,
  "nbformat_minor": 0
}